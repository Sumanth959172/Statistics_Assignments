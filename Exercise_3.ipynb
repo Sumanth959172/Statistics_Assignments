{
  "nbformat": 4,
  "nbformat_minor": 0,
  "metadata": {
    "colab": {
      "provenance": []
    },
    "kernelspec": {
      "name": "python3",
      "display_name": "Python 3"
    },
    "language_info": {
      "name": "python"
    }
  },
  "cells": [
    {
      "cell_type": "code",
      "execution_count": 1,
      "metadata": {
        "colab": {
          "base_uri": "https://localhost:8080/"
        },
        "id": "yCJYV_tiU91S",
        "outputId": "4f1c75b7-076a-43f0-dab7-9d46d5ff06c4"
      },
      "outputs": [
        {
          "output_type": "execute_result",
          "data": {
            "text/plain": [
              "(1.4620000000000002, 4.26, -39.492719391538095, 9.934432957587695e-46)"
            ]
          },
          "metadata": {},
          "execution_count": 1
        }
      ],
      "source": [
        "from sklearn.datasets import load_iris\n",
        "import pandas as pd\n",
        "from scipy.stats import ttest_ind\n",
        "\n",
        "# Loading the dataset\n",
        "iris = load_iris()\n",
        "iris_df = pd.DataFrame(data=iris.data, columns=iris.feature_names)\n",
        "iris_df['species'] = iris.target\n",
        "iris_df['species_name'] = iris_df['species'].apply(lambda x: iris.target_names[x])\n",
        "\n",
        "# Filtering the dataset\n",
        "species_1 = 'setosa'\n",
        "species_2 = 'versicolor'\n",
        "species_1_data = iris_df[iris_df['species_name'] == species_1]['petal length (cm)']\n",
        "species_2_data = iris_df[iris_df['species_name'] == species_2]['petal length (cm)']\n",
        "\n",
        "# Calculating the mean petal lengths of the two species\n",
        "mean_species_1 = species_1_data.mean()\n",
        "mean_species_2 = species_2_data.mean()\n",
        "\n",
        "# Performing the t-test\n",
        "t_stat, p_value = ttest_ind(species_1_data, species_2_data, equal_var=False)\n",
        "\n",
        "mean_species_1, mean_species_2, t_stat, p_value\n"
      ]
    },
    {
      "cell_type": "markdown",
      "source": [
        "Interpretation of Results:\n",
        "t-statistic: -39.49\n",
        "p-value: 9.934432957587695e-46)\n",
        "Given the extremely small p-value ( <0.05, in fact nearly 0 ), we reject the null hypothesis. This indicates strong evidence that the mean petal lengths of Setosa and Versicolor are significantly different."
      ],
      "metadata": {
        "id": "4t52JzgfWMRU"
      }
    },
    {
      "cell_type": "markdown",
      "source": [
        "The t-test already conducted is an independent t-test, where we assumed the samples from the two species are independent of each other(Setosa and Versicolor)."
      ],
      "metadata": {
        "id": "ymDhSBqrXBSu"
      }
    },
    {
      "cell_type": "code",
      "source": [
        "# Simplified code for performing a one-sample Z-test for all species\n",
        "from statsmodels.stats.weightstats import ztest\n",
        "import pandas as pd\n",
        "\n",
        "# Perform Z-tests for each species\n",
        "results = {\n",
        "    species: ztest(iris_df[iris_df['species_name'] == species]['petal length (cm)'], value=5)\n",
        "    for species in iris.target_names\n",
        "}\n",
        "\n",
        "# Convert results into a DataFrame\n",
        "simple_results_df = pd.DataFrame(results, index=['Z-statistic', 'p-value']).T\n",
        "\n",
        "# Print the DataFrame\n",
        "print(simple_results_df)\n"
      ],
      "metadata": {
        "colab": {
          "base_uri": "https://localhost:8080/"
        },
        "id": "94k5RQ9CXMXw",
        "outputId": "53a2b929-a343-460b-91bf-d4d1835a179a"
      },
      "execution_count": 6,
      "outputs": [
        {
          "output_type": "stream",
          "name": "stdout",
          "text": [
            "            Z-statistic       p-value\n",
            "setosa      -144.056560  0.000000e+00\n",
            "versicolor   -11.135280  8.447936e-29\n",
            "virginica      7.072417  1.522580e-12\n"
          ]
        }
      ]
    },
    {
      "cell_type": "code",
      "source": [
        "from statsmodels.stats.weightstats import ztest\n",
        "import pandas as pd\n",
        "\n",
        "# Define the threshold for sample size\n",
        "threshold = 30\n",
        "\n",
        "# Perform Z-tests for each species only if n > 30\n",
        "results = {}\n",
        "for species in iris.target_names:\n",
        "    species_data = iris_df[iris_df['species_name'] == species]['petal length (cm)']\n",
        "    if len(species_data) > threshold:\n",
        "        z_stat, p_value = ztest(species_data, value=5)\n",
        "        results[species] = {'Z-statistic': z_stat, 'p-value': p_value}\n",
        "    else:\n",
        "        results[species] = {'Z-statistic': None, 'p-value': 'Sample size < 30'}\n",
        "\n",
        "# Convert results into a DataFrame\n",
        "filtered_results_df = pd.DataFrame(results).T\n",
        "\n",
        "# Display the results\n",
        "print(filtered_results_df)\n"
      ],
      "metadata": {
        "colab": {
          "base_uri": "https://localhost:8080/"
        },
        "id": "32Rc3P6bbikE",
        "outputId": "4dcf607d-985d-4fbf-b0e9-963337f79419"
      },
      "execution_count": 8,
      "outputs": [
        {
          "output_type": "stream",
          "name": "stdout",
          "text": [
            "            Z-statistic       p-value\n",
            "setosa      -144.056560  0.000000e+00\n",
            "versicolor   -11.135280  8.447936e-29\n",
            "virginica      7.072417  1.522580e-12\n"
          ]
        }
      ]
    },
    {
      "cell_type": "markdown",
      "source": [
        "Each species sample size is checked against the threshold n>30. If n>30, the Z-test is performed; otherwise, it's skipped, and the result indicates \"Sample size < 30\"."
      ],
      "metadata": {
        "id": "mTw1JN6qaKLU"
      }
    },
    {
      "cell_type": "code",
      "source": [
        "from scipy.stats import f_oneway\n",
        "\n",
        "# Extract petal width data for each species\n",
        "setosa_petal_width = iris_df[iris_df['species_name'] == 'setosa']['petal width (cm)']\n",
        "versicolor_petal_width = iris_df[iris_df['species_name'] == 'versicolor']['petal width (cm)']\n",
        "virginica_petal_width = iris_df[iris_df['species_name'] == 'virginica']['petal width (cm)']\n",
        "\n",
        "# Perform one-way ANOVA\n",
        "anova_stat, anova_p_value = f_oneway(setosa_petal_width, versicolor_petal_width, virginica_petal_width)\n",
        "\n",
        "anova_stat, anova_p_value\n"
      ],
      "metadata": {
        "colab": {
          "base_uri": "https://localhost:8080/"
        },
        "id": "3OM4rBikcRa0",
        "outputId": "a5d685a5-85f3-4f90-d010-e2f59c31f308"
      },
      "execution_count": 9,
      "outputs": [
        {
          "output_type": "execute_result",
          "data": {
            "text/plain": [
              "(960.007146801809, 4.169445839443116e-85)"
            ]
          },
          "metadata": {},
          "execution_count": 9
        }
      ]
    },
    {
      "cell_type": "markdown",
      "source": [
        "there is a statistically significant difference in the mean petal widths among the species (Setosa, Versicolor, and Virginica) because of extremly small p value and null hypothesis is rejected"
      ],
      "metadata": {
        "id": "hL07dkBecYP0"
      }
    },
    {
      "cell_type": "code",
      "source": [
        "# Calculate the correlation between sepal length and petal length\n",
        "correlation = iris_df['sepal length (cm)'].corr(iris_df['petal length (cm)'])\n",
        "\n",
        "correlation"
      ],
      "metadata": {
        "colab": {
          "base_uri": "https://localhost:8080/"
        },
        "id": "6mihTSDocra1",
        "outputId": "399ddad1-7261-48b6-c614-de7d38b808f8"
      },
      "execution_count": 10,
      "outputs": [
        {
          "output_type": "execute_result",
          "data": {
            "text/plain": [
              "0.8717537758865831"
            ]
          },
          "metadata": {},
          "execution_count": 10
        }
      ]
    },
    {
      "cell_type": "markdown",
      "source": [
        "The correlation coefficient is 0.87, which indicates a strong positive correlation between sepal length and petal length.\n",
        "This means that as the sepal length increases, the petal length also tends to increase proportionally."
      ],
      "metadata": {
        "id": "TvR-a-mcdRVD"
      }
    }
  ]
}